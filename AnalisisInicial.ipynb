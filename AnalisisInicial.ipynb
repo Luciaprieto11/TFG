{
 "cells": [
  {
   "cell_type": "code",
   "execution_count": 3,
   "metadata": {},
   "outputs": [],
   "source": [
    "import pandas as pd\n",
    "\n",
    "ruta_archivo1 = '/Users/luciaprietogonzalez/Documents/Universidad/CURSO4/TFG/TFG DEFINITIVO/DESARROLLO/DATASETS/Tablas originales/Mental_Health_in_Tech_Survey.csv'  \n",
    "ruta_archivo2 = '/Users/luciaprietogonzalez/Documents/Universidad/CURSO4/TFG/TFG DEFINITIVO/DESARROLLO/DATASETS/Tablas originales/Student_Mental _health.csv'  \n",
    "\n",
    "\n",
    "#importar el archivo csv y crear el DataFrame\n",
    "datos_tech = pd.read_csv(ruta_archivo1)\n",
    "datos_student = pd.read_csv(ruta_archivo2)\n"
   ]
  },
  {
   "cell_type": "code",
   "execution_count": 6,
   "metadata": {},
   "outputs": [
    {
     "name": "stdout",
     "output_type": "stream",
     "text": [
      "Timestamp                    object\n",
      "Age                           int64\n",
      "Gender                       object\n",
      "Country                      object\n",
      "state                        object\n",
      "self_employed                object\n",
      "family_history               object\n",
      "treatment                    object\n",
      "work_interfere               object\n",
      "no_employees                 object\n",
      "remote_work                  object\n",
      "tech_company                 object\n",
      "benefits                     object\n",
      "care_options                 object\n",
      "wellness_program             object\n",
      "seek_help                    object\n",
      "anonymity                    object\n",
      "leave                        object\n",
      "mental_health_consequence    object\n",
      "phys_health_consequence      object\n",
      "coworkers                    object\n",
      "supervisor                   object\n",
      "mental_health_interview      object\n",
      "phys_health_interview        object\n",
      "mental_vs_physical           object\n",
      "obs_consequence              object\n",
      "comments                     object\n",
      "dtype: object\n"
     ]
    }
   ],
   "source": [
    "print(datos_tech.dtypes)\n"
   ]
  },
  {
   "cell_type": "code",
   "execution_count": 7,
   "metadata": {},
   "outputs": [
    {
     "name": "stdout",
     "output_type": "stream",
     "text": [
      "Timestamp                                        object\n",
      "Choose your gender                               object\n",
      "Age                                             float64\n",
      "What is your course?                             object\n",
      "Your current year of Study                       object\n",
      "What is your CGPA?                               object\n",
      "Marital status                                   object\n",
      "Do you have Depression?                          object\n",
      "Do you have Anxiety?                             object\n",
      "Do you have Panic attack?                        object\n",
      "Did you seek any specialist for a treatment?     object\n",
      "dtype: object\n"
     ]
    }
   ],
   "source": [
    "print(datos_student.dtypes)"
   ]
  },
  {
   "cell_type": "code",
   "execution_count": 5,
   "metadata": {},
   "outputs": [
    {
     "name": "stdout",
     "output_type": "stream",
     "text": [
      "1259\n",
      "101\n"
     ]
    }
   ],
   "source": [
    "print(len(datos_tech))\n",
    "print(len(datos_student))"
   ]
  },
  {
   "cell_type": "code",
   "execution_count": null,
   "metadata": {},
   "outputs": [],
   "source": [
    "#renombrar columnas dataframe\n",
    "s\n",
    "# Renombrar las columnas\n",
    "nuevos_nombres = {'A': 'Columna1', 'B': 'Columna2'}\n",
    "df = df.rename(columns=nuevos_nombres)\n",
    "\n",
    "# Mostrar el DataFrame con las columnas renombradas\n",
    "print(df)"
   ]
  },
  {
   "cell_type": "code",
   "execution_count": null,
   "metadata": {},
   "outputs": [],
   "source": []
  },
  {
   "cell_type": "code",
   "execution_count": null,
   "metadata": {},
   "outputs": [],
   "source": []
  },
  {
   "cell_type": "code",
   "execution_count": null,
   "metadata": {},
   "outputs": [],
   "source": []
  },
  {
   "cell_type": "code",
   "execution_count": null,
   "metadata": {},
   "outputs": [],
   "source": []
  },
  {
   "cell_type": "code",
   "execution_count": null,
   "metadata": {},
   "outputs": [],
   "source": []
  },
  {
   "cell_type": "code",
   "execution_count": null,
   "metadata": {},
   "outputs": [],
   "source": []
  },
  {
   "cell_type": "code",
   "execution_count": null,
   "metadata": {},
   "outputs": [],
   "source": []
  },
  {
   "attachments": {},
   "cell_type": "markdown",
   "metadata": {},
   "source": [
    "## Exportar datos procesados a csv"
   ]
  },
  {
   "cell_type": "code",
   "execution_count": 8,
   "metadata": {},
   "outputs": [],
   "source": [
    "#exportar dataframes procesados en csv\n",
    "datos_tech.to_csv(\"/Users/luciaprietogonzalez/Documents/Universidad/CURSO4/TFG/TFG DEFINITIVO/DESARROLLO/DATASETS/Procesados/datos_tech.csv\", index = False)\n",
    "datos_student.to_csv(\"/Users/luciaprietogonzalez/Documents/Universidad/CURSO4/TFG/TFG DEFINITIVO/DESARROLLO/DATASETS/Procesados/datos_student.csv\", index = False)\n",
    " "
   ]
  }
 ],
 "metadata": {
  "kernelspec": {
   "display_name": "Python 3",
   "language": "python",
   "name": "python3"
  },
  "language_info": {
   "codemirror_mode": {
    "name": "ipython",
    "version": 3
   },
   "file_extension": ".py",
   "mimetype": "text/x-python",
   "name": "python",
   "nbconvert_exporter": "python",
   "pygments_lexer": "ipython3",
   "version": "3.11.3"
  },
  "orig_nbformat": 4,
  "vscode": {
   "interpreter": {
    "hash": "31f2aee4e71d21fbe5cf8b01ff0e069b9275f58929596ceb00d14d90e3e16cd6"
   }
  }
 },
 "nbformat": 4,
 "nbformat_minor": 2
}
