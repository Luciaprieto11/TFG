{
 "cells": [
  {
   "attachments": {},
   "cell_type": "markdown",
   "metadata": {},
   "source": [
    "## Importar archivos de datos en local"
   ]
  },
  {
   "cell_type": "code",
   "execution_count": 1,
   "metadata": {},
   "outputs": [],
   "source": [
    "#import pandas as pd\n",
    "\n",
    "#ruta_archivo1 = '/Users/luciaprietogonzalez/Documents/Universidad/CURSO4/TFG/TFG DEFINITIVO/DESARROLLO/TFG/Tablas originales/Mental_Health_in_Tech_Survey.csv'  \n",
    "#ruta_archivo2 = '/Users/luciaprietogonzalez/Documents/Universidad/CURSO4/TFG/TFG DEFINITIVO/DESARROLLO/TFG/Tablas originales/Student_Mental _health.csv'  \n",
    "\n",
    "#importar el archivo csv y crear el DataFrame\n",
    "#datos_tech_original = pd.read_csv(ruta_archivo1)\n",
    "#datos_student_original = pd.read_csv(ruta_archivo2)\n"
   ]
  },
  {
   "attachments": {},
   "cell_type": "markdown",
   "metadata": {},
   "source": [
    "## INSTALAR LIBRERIAS NECESARIAS E IMPORTARLAS "
   ]
  },
  {
   "cell_type": "code",
   "execution_count": 11,
   "metadata": {},
   "outputs": [
    {
     "name": "stdout",
     "output_type": "stream",
     "text": [
      "Collecting pandas\n",
      "  Using cached pandas-1.3.5-cp37-cp37m-macosx_10_9_x86_64.whl (11.0 MB)\n",
      "Requirement already satisfied: python-dateutil>=2.7.3 in ./.venv/lib/python3.7/site-packages (from pandas) (2.8.2)\n",
      "Collecting pytz>=2017.3 (from pandas)\n",
      "  Using cached pytz-2023.3-py2.py3-none-any.whl (502 kB)\n",
      "Collecting numpy>=1.17.3 (from pandas)\n",
      "  Downloading numpy-1.21.6-cp37-cp37m-macosx_10_9_x86_64.whl (16.9 MB)\n",
      "\u001b[2K     \u001b[90m━━━━━━━━━━━━━━━━━━━━━━━━━━━━━━━━━━━━━━━━\u001b[0m \u001b[32m16.9/16.9 MB\u001b[0m \u001b[31m11.2 MB/s\u001b[0m eta \u001b[36m0:00:00\u001b[0m00:01\u001b[0m00:01\u001b[0m\n",
      "\u001b[?25hRequirement already satisfied: six>=1.5 in ./.venv/lib/python3.7/site-packages (from python-dateutil>=2.7.3->pandas) (1.16.0)\n",
      "Installing collected packages: pytz, numpy, pandas\n",
      "Successfully installed numpy-1.21.6 pandas-1.3.5 pytz-2023.3\n",
      "Note: you may need to restart the kernel to use updated packages.\n"
     ]
    }
   ],
   "source": [
    "#instalar librerias necesarias\n",
    "pip install pandas\n",
    "pip install google-cloud-bigquery\n",
    "pip install db-dtypes\n",
    "pip install seaborn\n",
    "pip install matplotlib\n"
   ]
  },
  {
   "cell_type": "code",
   "execution_count": 1,
   "metadata": {},
   "outputs": [
    {
     "name": "stderr",
     "output_type": "stream",
     "text": [
      "Unable to revert mtime: /Library/Fonts\n",
      "Fontconfig warning: ignoring UTF-8: not a valid region tag\n",
      "Matplotlib is building the font cache; this may take a moment.\n"
     ]
    }
   ],
   "source": [
    "import pandas as pd\n",
    "from google.cloud import bigquery\n",
    "import seaborn as sns\n",
    "import matplotlib.pyplot as plt"
   ]
  },
  {
   "attachments": {},
   "cell_type": "markdown",
   "metadata": {},
   "source": [
    "## Importar archivos de BigQuery (GCP)"
   ]
  },
  {
   "cell_type": "code",
   "execution_count": 2,
   "metadata": {},
   "outputs": [],
   "source": [
    "def importar_tabla_bigquery (id_proyecto, tabla, name_dataframe): \n",
    "\n",
    "    client = bigquery.Client(project=id_proyecto)\n",
    "\n",
    "    #consulta a la tabla\n",
    "    query = f\"SELECT * FROM `{tabla}`\"\n",
    "\n",
    "    #ejecutar la consulta\n",
    "    dataframe = client.query(query).to_dataframe()\n",
    "\n",
    "    #cambiar nombre al dataframe \n",
    "    globals()[name_dataframe] = dataframe\n"
   ]
  },
  {
   "cell_type": "code",
   "execution_count": 3,
   "metadata": {},
   "outputs": [],
   "source": [
    "#COMPLETAR CON LOS DATOS DE LA TABLA QUE SE QUIERE IMPORTAR \n",
    "id_proyecto=\"tfg-ayudasaludmental-12345\"\n",
    "tabla_importar= \"DatosTech.datos_iniciales_tech\"\n",
    "name_dataframe= \"datos_tech_original\"\n",
    "\n",
    "importar_tabla_bigquery(id_proyecto,tabla_importar,name_dataframe)"
   ]
  },
  {
   "attachments": {},
   "cell_type": "markdown",
   "metadata": {},
   "source": [
    "## Analisis inicial del dataset"
   ]
  },
  {
   "cell_type": "code",
   "execution_count": 4,
   "metadata": {},
   "outputs": [
    {
     "name": "stdout",
     "output_type": "stream",
     "text": [
      "primeras filas\n",
      "                  Timestamp  Age Gender        Country state self_employed  \\\n",
      "0 2014-08-27 11:29:44+00:00   32   Male         Canada    NA            NA   \n",
      "1 2014-08-27 11:32:05+00:00   39      M         Canada    NA            NA   \n",
      "2 2014-08-27 11:35:08+00:00   36   Male         France    NA           Yes   \n",
      "3 2014-08-27 11:35:24+00:00   31   male  United States    NC           Yes   \n",
      "4 2014-08-27 11:41:17+00:00   27   Male  United States    NY            No   \n",
      "\n",
      "   family_history  treatment work_interfere no_employees  ...  \\\n",
      "0           False      False         Rarely         6-25  ...   \n",
      "1           False      False          Never          1-5  ...   \n",
      "2            True      False             NA         6-25  ...   \n",
      "3           False      False          Never          1-5  ...   \n",
      "4           False       True         Rarely         6-25  ...   \n",
      "\n",
      "                leave  mental_health_consequence phys_health_consequence  \\\n",
      "0  Somewhat difficult                         No                      No   \n",
      "1          Don't know                         No                      No   \n",
      "2       Somewhat easy                         No                      No   \n",
      "3  Somewhat difficult                         No                      No   \n",
      "4           Very easy                         No                      No   \n",
      "\n",
      "      coworkers    supervisor mental_health_interview phys_health_interview  \\\n",
      "0           Yes           Yes                     Yes                   Yes   \n",
      "1            No            No                      No                    No   \n",
      "2  Some of them  Some of them                   Maybe                 Maybe   \n",
      "3  Some of them  Some of them                      No                 Maybe   \n",
      "4           Yes           Yes                   Maybe                 Maybe   \n",
      "\n",
      "  mental_vs_physical obs_consequence comments  \n",
      "0                 No           False       NA  \n",
      "1                 No           False       NA  \n",
      "2         Don't know           False       NA  \n",
      "3                Yes           False       NA  \n",
      "4         Don't know           False       NA  \n",
      "\n",
      "[5 rows x 27 columns]\n",
      "\n",
      "informacion\n",
      "<class 'pandas.core.frame.DataFrame'>\n",
      "RangeIndex: 1259 entries, 0 to 1258\n",
      "Data columns (total 27 columns):\n",
      " #   Column                     Non-Null Count  Dtype              \n",
      "---  ------                     --------------  -----              \n",
      " 0   Timestamp                  1259 non-null   datetime64[ns, UTC]\n",
      " 1   Age                        1259 non-null   Int64              \n",
      " 2   Gender                     1259 non-null   object             \n",
      " 3   Country                    1259 non-null   object             \n",
      " 4   state                      1259 non-null   object             \n",
      " 5   self_employed              1259 non-null   object             \n",
      " 6   family_history             1259 non-null   boolean            \n",
      " 7   treatment                  1259 non-null   boolean            \n",
      " 8   work_interfere             1259 non-null   object             \n",
      " 9   no_employees               1259 non-null   object             \n",
      " 10  remote_work                1259 non-null   boolean            \n",
      " 11  tech_company               1259 non-null   boolean            \n",
      " 12  benefits                   1259 non-null   object             \n",
      " 13  care_options               1259 non-null   object             \n",
      " 14  wellness_program           1259 non-null   object             \n",
      " 15  seek_help                  1259 non-null   object             \n",
      " 16  anonymity                  1259 non-null   object             \n",
      " 17  leave                      1259 non-null   object             \n",
      " 18  mental_health_consequence  1259 non-null   object             \n",
      " 19  phys_health_consequence    1259 non-null   object             \n",
      " 20  coworkers                  1259 non-null   object             \n",
      " 21  supervisor                 1259 non-null   object             \n",
      " 22  mental_health_interview    1259 non-null   object             \n",
      " 23  phys_health_interview      1259 non-null   object             \n",
      " 24  mental_vs_physical         1259 non-null   object             \n",
      " 25  obs_consequence            1259 non-null   boolean            \n",
      " 26  comments                   1259 non-null   object             \n",
      "dtypes: Int64(1), boolean(5), datetime64[ns, UTC](1), object(20)\n",
      "memory usage: 230.0+ KB\n",
      "None\n",
      "\n",
      "estadisticas\n",
      "                 Age family_history treatment remote_work tech_company  \\\n",
      "count   1.259000e+03           1259      1259        1259         1259   \n",
      "unique           NaN              2         2           2            2   \n",
      "top              NaN          False      True       False         True   \n",
      "freq             NaN            767       637         883         1031   \n",
      "mean    7.942815e+07            NaN       NaN         NaN          NaN   \n",
      "std     2.818299e+09            NaN       NaN         NaN          NaN   \n",
      "min    -1.726000e+03            NaN       NaN         NaN          NaN   \n",
      "25%     2.700000e+01            NaN       NaN         NaN          NaN   \n",
      "50%     3.100000e+01            NaN       NaN         NaN          NaN   \n",
      "75%     3.600000e+01            NaN       NaN         NaN          NaN   \n",
      "max     1.000000e+11            NaN       NaN         NaN          NaN   \n",
      "\n",
      "       obs_consequence  \n",
      "count             1259  \n",
      "unique               2  \n",
      "top              False  \n",
      "freq              1075  \n",
      "mean               NaN  \n",
      "std                NaN  \n",
      "min                NaN  \n",
      "25%                NaN  \n",
      "50%                NaN  \n",
      "75%                NaN  \n",
      "max                NaN  \n",
      "\n",
      "dimensiones\n",
      "(1259, 27)\n",
      "\n",
      "tipos de datos\n",
      "Timestamp                    datetime64[ns, UTC]\n",
      "Age                                        Int64\n",
      "Gender                                    object\n",
      "Country                                   object\n",
      "state                                     object\n",
      "self_employed                             object\n",
      "family_history                           boolean\n",
      "treatment                                boolean\n",
      "work_interfere                            object\n",
      "no_employees                              object\n",
      "remote_work                              boolean\n",
      "tech_company                             boolean\n",
      "benefits                                  object\n",
      "care_options                              object\n",
      "wellness_program                          object\n",
      "seek_help                                 object\n",
      "anonymity                                 object\n",
      "leave                                     object\n",
      "mental_health_consequence                 object\n",
      "phys_health_consequence                   object\n",
      "coworkers                                 object\n",
      "supervisor                                object\n",
      "mental_health_interview                   object\n",
      "phys_health_interview                     object\n",
      "mental_vs_physical                        object\n",
      "obs_consequence                          boolean\n",
      "comments                                  object\n",
      "dtype: object\n"
     ]
    }
   ],
   "source": [
    "#analisis inicial de los datos \n",
    "#mostrar primeras filas del dataframe\n",
    "print(\"primeras filas\")\n",
    "print(datos_tech_original.head())\n",
    "\n",
    "#infomacion basica del dataframe\n",
    "print(\"\\ninformacion\")\n",
    "print(datos_tech_original.info())\n",
    "\n",
    "#estadisticas de cada columna\n",
    "print(\"\\nestadisticas\")\n",
    "print(datos_tech_original.describe())\n",
    "\n",
    "#dimensiones del dataframe\n",
    "print(\"\\ndimensiones\")\n",
    "print(datos_tech_original.shape)\n",
    "\n",
    "#mostrar tipos de datos\n",
    "print(\"\\ntipos de datos\")\n",
    "print(datos_tech_original.dtypes)\n",
    "\n"
   ]
  },
  {
   "cell_type": "code",
   "execution_count": null,
   "metadata": {},
   "outputs": [],
   "source": [
    "#tengo estas columnas de cada tipo dtypes: Int64(1), boolean(5), datetime64[ns, UTC](1), object(20)\n",
    "\n"
   ]
  },
  {
   "cell_type": "code",
   "execution_count": 5,
   "metadata": {},
   "outputs": [
    {
     "name": "stdout",
     "output_type": "stream",
     "text": [
      "Matriz de correlación para columnas categóricas:\n"
     ]
    }
   ],
   "source": [
    "#calcular matriz de correlacion antes de limpiar los datos \n",
    "\n",
    "#seleccionar las columnas categoricas\n",
    "columnas_categoricas = datos_tech_original.select_dtypes(include=['object']).columns\n",
    "\n",
    "# Seleccionar las columnas booleanas\n",
    "columnas_booleanas = datos_tech_original.select_dtypes(include='boolean').columns\n",
    "\n",
    "# Crear un nuevo DataFrame solo con las columnas categóricas y booleanas \n",
    "df_bool_cat = datos_tech_original[columnas_booleanas.tolist() + columnas_categoricas.tolist()]\n",
    "\n",
    "# Convertir las columnas categóricas en variables dummy\n",
    "#df_categoricas = pd.get_dummies(df_categoricas)\n",
    "\n",
    "# Calcular la matriz de correlación para las columnas booleanas y categóricas\n",
    "matriz_correlacion = df_bool_cat.corr()\n",
    "\n",
    "# Calcular la matriz de correlación para las columnas categóricas\n",
    "#matriz_correlacion_categoricas = df_categoricas.corr()\n",
    "\n",
    "# Imprimir la matriz de correlación para las columnas categóricas\n",
    "print(\"Matriz de correlación para columnas categóricas:\")\n",
    "#print(matriz_correlacion_categoricas)\n"
   ]
  },
  {
   "cell_type": "code",
   "execution_count": 6,
   "metadata": {},
   "outputs": [
    {
     "data": {
      "image/png": "[encoded data removed]",
      "text/plain": [
       "<Figure size 640x480 with 2 Axes>"
      ]
     },
     "metadata": {},
     "output_type": "display_data"
    }
   ],
   "source": [
    "# Crear un mapa de calor de la matriz de correlación\n",
    "sns.heatmap(matriz_correlacion, annot=True, cmap='coolwarm')\n",
    "\n",
    "# Configurar las etiquetas de los ejes\n",
    "plt.xticks(range(len(matriz_correlacion.columns)), matriz_correlacion.columns, rotation=90)\n",
    "plt.yticks(range(len(matriz_correlacion.columns)), matriz_correlacion.columns)\n",
    "\n",
    "# Mostrar el mapa de calor\n",
    "plt.show()"
   ]
  },
  {
   "attachments": {},
   "cell_type": "markdown",
   "metadata": {},
   "source": [
    "## Preparación dataframe"
   ]
  },
  {
   "cell_type": "code",
   "execution_count": 8,
   "metadata": {},
   "outputs": [],
   "source": [
    "#crearse dataset igual para modificarlo\n",
    "datos_tech = datos_tech_original.copy()\n"
   ]
  },
  {
   "cell_type": "code",
   "execution_count": 9,
   "metadata": {},
   "outputs": [
    {
     "name": "stdout",
     "output_type": "stream",
     "text": [
      "False\n",
      "1259\n",
      "1259\n"
     ]
    }
   ],
   "source": [
    "#eliminar datos duplicados \n",
    "duplicados = datos_tech.duplicated().any()\n",
    "print(duplicados)\n",
    "print(len(datos_tech_original))\n",
    "\n",
    "#eliminar duplicados si los tiene\n",
    "datos_student = datos_tech.drop_duplicates()\n",
    "print(len(datos_tech))"
   ]
  },
  {
   "cell_type": "code",
   "execution_count": 13,
   "metadata": {},
   "outputs": [
    {
     "name": "stdout",
     "output_type": "stream",
     "text": [
      "[0, 1, 2, 3, 4, 5, 6, 7, 8, 9, 10, 11, 12, 13, 14, 15, 16, 17, 18, 19, 20, 21, 22, 23, 24, 25, 26, 27, 28, 29, 30, 31, 32, 33, 34, 35, 36, 37, 38, 39, 40, 41, 42, 43, 44, 45, 46, 47, 48, 49, 50, 51, 52, 53, 54, 55, 56, 57, 58, 59, 60, 61, 62, 63, 64, 65, 66, 67, 68, 69, 70, 71, 72, 73, 74, 75, 76, 77, 78, 79, 80, 81, 82, 83, 84, 85, 86, 87, 88, 89, 90, 91, 92, 93, 94, 95, 96, 97, 98, 99, 100, 101, 102, 103, 104, 105, 106, 107, 108, 109, 110, 111, 112, 113, 114, 115, 116, 117, 118, 119, 120, 121, 122, 123, 124, 125, 126, 127, 128, 129, 130, 131, 132, 133, 134, 135, 136, 137, 138, 139, 140, 141, 142, 143, 144, 145, 146, 147, 148, 149, 150, 151, 152, 153, 154, 155, 156, 157, 158, 159, 160, 161, 162, 163, 164, 165, 166, 167, 168, 169, 170, 171, 172, 173, 174, 175, 176, 177, 178, 179, 180, 181, 182, 183, 184, 185, 186, 187, 188, 189, 190, 191, 192, 193, 194, 195, 196, 197, 198, 199, 200, 201, 202, 203, 204, 205, 206, 207, 208, 209, 210, 211, 212, 213, 214, 215, 216, 217, 218, 219, 220, 221, 222, 223, 224, 225, 226, 227, 228, 229, 230, 231, 232, 233, 234, 235, 236, 237, 238, 239, 240, 241, 242, 243, 244, 245, 246, 247, 248, 249, 250, 251, 252, 253, 254, 255, 256, 257, 258, 259, 260, 261, 262, 263, 264, 265, 266, 267, 268, 269, 270, 271, 272, 273, 274, 275, 276, 277, 278, 279, 280, 281, 282, 283, 284, 285, 286, 287, 288, 289, 290, 291, 292, 293, 294, 295, 296, 297, 298, 299, 300, 301, 302, 303, 304, 305, 306, 307, 308, 309, 310, 311, 312, 313, 314, 315, 316, 317, 318, 319, 320, 321, 322, 323, 324, 325, 326, 327, 328, 329, 330, 331, 332, 333, 334, 335, 336, 337, 338, 339, 340, 341, 342, 343, 344, 345, 346, 347, 348, 349, 350, 351, 352, 353, 354, 355, 356, 357, 358, 359, 360, 361, 362, 363, 364, 365, 366, 367, 368, 369, 370, 371, 372, 373, 374, 375, 376, 377, 378, 379, 380, 381, 382, 383, 384, 385, 386, 387, 388, 389, 390, 391, 392, 393, 394, 395, 396, 397, 398, 399, 400, 401, 402, 403, 404, 405, 406, 407, 408, 409, 410, 411, 412, 413, 414, 415, 416, 417, 418, 419, 420, 421, 422, 423, 424, 425, 426, 427, 428, 429, 430, 431, 432, 433, 434, 435, 436, 437, 438, 439, 440, 441, 442, 443, 444, 445, 446, 447, 448, 449, 450, 451, 452, 453, 454, 455, 456, 457, 458, 459, 460, 461, 462, 463, 464, 465, 466, 467, 468, 469, 470, 471, 472, 473, 474, 475, 476, 477, 478, 479, 480, 481, 482, 483, 484, 485, 486, 487, 488, 489, 490, 491, 492, 493, 494, 495, 496, 497, 498, 499, 500, 501, 502, 503, 504, 505, 506, 507, 508, 509, 510, 511, 512, 513, 514, 515, 516, 517, 518, 519, 520, 521, 522, 523, 524, 525, 526, 527, 528, 529, 530, 531, 532, 533, 534, 535, 536, 537, 538, 539, 540, 541, 542, 543, 544, 545, 546, 547, 548, 549, 550, 551, 552, 553, 554, 555, 556, 557, 558, 559, 560, 561, 562, 563, 564, 565, 566, 567, 568, 569, 570, 571, 572, 573, 574, 575, 576, 577, 578, 579, 580, 581, 582, 583, 584, 585, 586, 587, 588, 589, 590, 591, 592, 593, 594, 595, 596, 597, 598, 599, 600, 601, 602, 603, 604, 605, 606, 607, 608, 609, 610, 611, 612, 613, 614, 615, 616, 617, 618, 619, 620, 621, 622, 623, 624, 625, 626, 627, 628, 629, 630, 631, 632, 633, 634, 635, 636, 637, 638, 639, 640, 641, 642, 643, 644, 645, 646, 647, 648, 649, 650, 651, 652, 653, 654, 655, 656, 657, 658, 659, 660, 661, 662, 663, 664, 665, 666, 667, 668, 669, 670, 671, 672, 673, 674, 675, 676, 677, 678, 679, 680, 681, 682, 683, 684, 685, 686, 687, 688, 689, 690, 691, 692, 693, 694, 695, 696, 697, 698, 699, 700, 701, 702, 703, 704, 705, 706, 707, 708, 709, 710, 711, 712, 713, 714, 715, 716, 717, 718, 719, 720, 721, 722, 723, 724, 725, 726, 727, 728, 729, 730, 731, 732, 733, 734, 735, 736, 737, 738, 739, 740, 741, 742, 743, 744, 745, 746, 747, 748, 749, 750, 751, 752, 753, 754, 755, 756, 757, 758, 759, 760, 761, 762, 763, 764, 765, 766, 767, 768, 769, 770, 771, 772, 773, 774, 775, 776, 777, 778, 779, 780, 781, 782, 783, 784, 785, 786, 787, 788, 789, 790, 791, 792, 793, 794, 795, 796, 797, 798, 799, 800, 801, 802, 803, 804, 805, 806, 807, 808, 809, 810, 811, 812, 813, 814, 815, 816, 817, 818, 819, 820, 821, 822, 823, 824, 825, 826, 827, 828, 829, 830, 831, 832, 833, 834, 835, 836, 837, 838, 839, 840, 841, 842, 843, 844, 845, 846, 847, 848, 849, 850, 851, 852, 853, 854, 855, 856, 857, 858, 859, 860, 861, 862, 863, 864, 865, 866, 867, 868, 869, 870, 871, 872, 873, 874, 875, 876, 877, 878, 879, 880, 881, 882, 883, 884, 885, 886, 887, 888, 889, 890, 891, 892, 893, 894, 895, 896, 897, 898, 899, 900, 901, 902, 903, 904, 905, 906, 907, 908, 909, 910, 911, 912, 913, 914, 915, 916, 917, 918, 919, 920, 921, 922, 923, 924, 925, 926, 927, 928, 929, 930, 931, 932, 933, 934, 935, 936, 937, 938, 939, 940, 941, 942, 943, 944, 945, 946, 947, 948, 949, 950, 951, 952, 953, 954, 955, 956, 957, 958, 959, 960, 961, 962, 963, 964, 965, 966, 967, 968, 969, 970, 971, 972, 973, 974, 975, 976, 977, 978, 979, 980, 981, 982, 983, 984, 985, 986, 987, 988, 989, 990, 991, 992, 993, 994, 995, 996, 997, 998, 999, 1000, 1001, 1002, 1003, 1004, 1005, 1006, 1007, 1008, 1009, 1010, 1011, 1012, 1013, 1014, 1015, 1016, 1017, 1018, 1019, 1020, 1021, 1022, 1023, 1024, 1025, 1026, 1027, 1028, 1029, 1030, 1031, 1032, 1033, 1034, 1035, 1036, 1037, 1038, 1039, 1040, 1041, 1042, 1043, 1044, 1045, 1046, 1047, 1048, 1049, 1050, 1051, 1052, 1053, 1054, 1055, 1056, 1057, 1058, 1059, 1060, 1061, 1062, 1063, 1064, 1065, 1066, 1067, 1068, 1069, 1070, 1071, 1072, 1073, 1074, 1075, 1076, 1077, 1078, 1079, 1080, 1081, 1082, 1083, 1084, 1085, 1086, 1087, 1088, 1089, 1090, 1091, 1092, 1093, 1094, 1095, 1096, 1097, 1098, 1099, 1100, 1101, 1102, 1103, 1104, 1105, 1106, 1107, 1108, 1109, 1110, 1111, 1112, 1113, 1114, 1115, 1116, 1117, 1118, 1119, 1120, 1121, 1122, 1123, 1124, 1125, 1126, 1127, 1128, 1129, 1130, 1131, 1132, 1133, 1134, 1135, 1136, 1137, 1138, 1139, 1140, 1141, 1142, 1143, 1144, 1145, 1146, 1147, 1148, 1149, 1150, 1151, 1152, 1153, 1154, 1155, 1156, 1157, 1158, 1159, 1160, 1161, 1162, 1163, 1164, 1165, 1166, 1167, 1168, 1169, 1170, 1171, 1172, 1173, 1174, 1175, 1176, 1177, 1178, 1179, 1180, 1181, 1182, 1183, 1184, 1185, 1186, 1187, 1188, 1189, 1190, 1191, 1192, 1193, 1194, 1195, 1196, 1197, 1198, 1199, 1200, 1201, 1202, 1203, 1204, 1205, 1206, 1207, 1208, 1209, 1210, 1211, 1212, 1213, 1214, 1215, 1216, 1217, 1218, 1219, 1220, 1221, 1222, 1223, 1224, 1225, 1226, 1227, 1228, 1229, 1230, 1231, 1232, 1233, 1234, 1235, 1236, 1237, 1238, 1239, 1240, 1241, 1242, 1243, 1244, 1245, 1246, 1247, 1248, 1249, 1250, 1251, 1252, 1253, 1254, 1255, 1256, 1257, 1258]\n",
      "Timestamp                    0\n",
      "Age                          0\n",
      "Gender                       0\n",
      "Country                      0\n",
      "state                        0\n",
      "self_employed                0\n",
      "family_history               0\n",
      "treatment                    0\n",
      "work_interfere               0\n",
      "no_employees                 0\n",
      "remote_work                  0\n",
      "tech_company                 0\n",
      "benefits                     0\n",
      "care_options                 0\n",
      "wellness_program             0\n",
      "seek_help                    0\n",
      "anonymity                    0\n",
      "leave                        0\n",
      "mental_health_consequence    0\n",
      "phys_health_consequence      0\n",
      "coworkers                    0\n",
      "supervisor                   0\n",
      "mental_health_interview      0\n",
      "phys_health_interview        0\n",
      "mental_vs_physical           0\n",
      "obs_consequence              0\n",
      "comments                     0\n",
      "dtype: int64\n"
     ]
    }
   ],
   "source": [
    "#comprobar en qué columnas hay valores nulos\n",
    "columnas_nulos = datos_tech.isnull()\n",
    "#contar de valores nulos en cada columna\n",
    "cantidad_faltantes_por_columna = columnas_nulos.sum()\n",
    "columnas_nulos = columnas_nulos[columnas_nulos].index.tolist()\n",
    "print(columnas_nulos)\n",
    "print(cantidad_faltantes_por_columna)"
   ]
  },
  {
   "cell_type": "code",
   "execution_count": 14,
   "metadata": {},
   "outputs": [
    {
     "ename": "ValueError",
     "evalue": "Must specify a fill 'value' or 'method'.",
     "output_type": "error",
     "traceback": [
      "\u001b[0;31m---------------------------------------------------------------------------\u001b[0m",
      "\u001b[0;31mValueError\u001b[0m                                Traceback (most recent call last)",
      "\u001b[0;32m/var/folders/hh/x0fdcypd2h7_wprmslp8zmqr0000gn/T/ipykernel_25174/43695300.py\u001b[0m in \u001b[0;36m<module>\u001b[0;34m\u001b[0m\n\u001b[0;32m----> 1\u001b[0;31m \u001b[0mcolumnas_nulos\u001b[0m \u001b[0;34m=\u001b[0m \u001b[0mdatos_tech\u001b[0m\u001b[0;34m.\u001b[0m\u001b[0mfillna\u001b[0m\u001b[0;34m(\u001b[0m\u001b[0;34m)\u001b[0m\u001b[0;34m.\u001b[0m\u001b[0many\u001b[0m\u001b[0;34m(\u001b[0m\u001b[0;34m)\u001b[0m\u001b[0;34m\u001b[0m\u001b[0;34m\u001b[0m\u001b[0m\n\u001b[0m",
      "\u001b[0;32m~/Documents/Universidad/CURSO4/TFG/TFG DEFINITIVO/DESARROLLO/TFG/.venv/lib/python3.7/site-packages/pandas/util/_decorators.py\u001b[0m in \u001b[0;36mwrapper\u001b[0;34m(*args, **kwargs)\u001b[0m\n\u001b[1;32m    309\u001b[0m                     \u001b[0mstacklevel\u001b[0m\u001b[0;34m=\u001b[0m\u001b[0mstacklevel\u001b[0m\u001b[0;34m,\u001b[0m\u001b[0;34m\u001b[0m\u001b[0;34m\u001b[0m\u001b[0m\n\u001b[1;32m    310\u001b[0m                 )\n\u001b[0;32m--> 311\u001b[0;31m             \u001b[0;32mreturn\u001b[0m \u001b[0mfunc\u001b[0m\u001b[0;34m(\u001b[0m\u001b[0;34m*\u001b[0m\u001b[0margs\u001b[0m\u001b[0;34m,\u001b[0m \u001b[0;34m**\u001b[0m\u001b[0mkwargs\u001b[0m\u001b[0;34m)\u001b[0m\u001b[0;34m\u001b[0m\u001b[0;34m\u001b[0m\u001b[0m\n\u001b[0m\u001b[1;32m    312\u001b[0m \u001b[0;34m\u001b[0m\u001b[0m\n\u001b[1;32m    313\u001b[0m         \u001b[0;32mreturn\u001b[0m \u001b[0mwrapper\u001b[0m\u001b[0;34m\u001b[0m\u001b[0;34m\u001b[0m\u001b[0m\n",
      "\u001b[0;32m~/Documents/Universidad/CURSO4/TFG/TFG DEFINITIVO/DESARROLLO/TFG/.venv/lib/python3.7/site-packages/pandas/core/frame.py\u001b[0m in \u001b[0;36mfillna\u001b[0;34m(self, value, method, axis, inplace, limit, downcast)\u001b[0m\n\u001b[1;32m   5180\u001b[0m             \u001b[0minplace\u001b[0m\u001b[0;34m=\u001b[0m\u001b[0minplace\u001b[0m\u001b[0;34m,\u001b[0m\u001b[0;34m\u001b[0m\u001b[0;34m\u001b[0m\u001b[0m\n\u001b[1;32m   5181\u001b[0m             \u001b[0mlimit\u001b[0m\u001b[0;34m=\u001b[0m\u001b[0mlimit\u001b[0m\u001b[0;34m,\u001b[0m\u001b[0;34m\u001b[0m\u001b[0;34m\u001b[0m\u001b[0m\n\u001b[0;32m-> 5182\u001b[0;31m             \u001b[0mdowncast\u001b[0m\u001b[0;34m=\u001b[0m\u001b[0mdowncast\u001b[0m\u001b[0;34m,\u001b[0m\u001b[0;34m\u001b[0m\u001b[0;34m\u001b[0m\u001b[0m\n\u001b[0m\u001b[1;32m   5183\u001b[0m         )\n\u001b[1;32m   5184\u001b[0m \u001b[0;34m\u001b[0m\u001b[0m\n",
      "\u001b[0;32m~/Documents/Universidad/CURSO4/TFG/TFG DEFINITIVO/DESARROLLO/TFG/.venv/lib/python3.7/site-packages/pandas/core/generic.py\u001b[0m in \u001b[0;36mfillna\u001b[0;34m(self, value, method, axis, inplace, limit, downcast)\u001b[0m\n\u001b[1;32m   6311\u001b[0m         \"\"\"\n\u001b[1;32m   6312\u001b[0m         \u001b[0minplace\u001b[0m \u001b[0;34m=\u001b[0m \u001b[0mvalidate_bool_kwarg\u001b[0m\u001b[0;34m(\u001b[0m\u001b[0minplace\u001b[0m\u001b[0;34m,\u001b[0m \u001b[0;34m\"inplace\"\u001b[0m\u001b[0;34m)\u001b[0m\u001b[0;34m\u001b[0m\u001b[0;34m\u001b[0m\u001b[0m\n\u001b[0;32m-> 6313\u001b[0;31m         \u001b[0mvalue\u001b[0m\u001b[0;34m,\u001b[0m \u001b[0mmethod\u001b[0m \u001b[0;34m=\u001b[0m \u001b[0mvalidate_fillna_kwargs\u001b[0m\u001b[0;34m(\u001b[0m\u001b[0mvalue\u001b[0m\u001b[0;34m,\u001b[0m \u001b[0mmethod\u001b[0m\u001b[0;34m)\u001b[0m\u001b[0;34m\u001b[0m\u001b[0;34m\u001b[0m\u001b[0m\n\u001b[0m\u001b[1;32m   6314\u001b[0m \u001b[0;34m\u001b[0m\u001b[0m\n\u001b[1;32m   6315\u001b[0m         \u001b[0mself\u001b[0m\u001b[0;34m.\u001b[0m\u001b[0m_consolidate_inplace\u001b[0m\u001b[0;34m(\u001b[0m\u001b[0;34m)\u001b[0m\u001b[0;34m\u001b[0m\u001b[0;34m\u001b[0m\u001b[0m\n",
      "\u001b[0;32m~/Documents/Universidad/CURSO4/TFG/TFG DEFINITIVO/DESARROLLO/TFG/.venv/lib/python3.7/site-packages/pandas/util/_validators.py\u001b[0m in \u001b[0;36mvalidate_fillna_kwargs\u001b[0;34m(value, method, validate_scalar_dict_value)\u001b[0m\n\u001b[1;32m    368\u001b[0m \u001b[0;34m\u001b[0m\u001b[0m\n\u001b[1;32m    369\u001b[0m     \u001b[0;32mif\u001b[0m \u001b[0mvalue\u001b[0m \u001b[0;32mis\u001b[0m \u001b[0;32mNone\u001b[0m \u001b[0;32mand\u001b[0m \u001b[0mmethod\u001b[0m \u001b[0;32mis\u001b[0m \u001b[0;32mNone\u001b[0m\u001b[0;34m:\u001b[0m\u001b[0;34m\u001b[0m\u001b[0;34m\u001b[0m\u001b[0m\n\u001b[0;32m--> 370\u001b[0;31m         \u001b[0;32mraise\u001b[0m \u001b[0mValueError\u001b[0m\u001b[0;34m(\u001b[0m\u001b[0;34m\"Must specify a fill 'value' or 'method'.\"\u001b[0m\u001b[0;34m)\u001b[0m\u001b[0;34m\u001b[0m\u001b[0;34m\u001b[0m\u001b[0m\n\u001b[0m\u001b[1;32m    371\u001b[0m     \u001b[0;32melif\u001b[0m \u001b[0mvalue\u001b[0m \u001b[0;32mis\u001b[0m \u001b[0;32mNone\u001b[0m \u001b[0;32mand\u001b[0m \u001b[0mmethod\u001b[0m \u001b[0;32mis\u001b[0m \u001b[0;32mnot\u001b[0m \u001b[0;32mNone\u001b[0m\u001b[0;34m:\u001b[0m\u001b[0;34m\u001b[0m\u001b[0;34m\u001b[0m\u001b[0m\n\u001b[1;32m    372\u001b[0m         \u001b[0mmethod\u001b[0m \u001b[0;34m=\u001b[0m \u001b[0mclean_fill_method\u001b[0m\u001b[0;34m(\u001b[0m\u001b[0mmethod\u001b[0m\u001b[0;34m)\u001b[0m\u001b[0;34m\u001b[0m\u001b[0;34m\u001b[0m\u001b[0m\n",
      "\u001b[0;31mValueError\u001b[0m: Must specify a fill 'value' or 'method'."
     ]
    }
   ],
   "source": [
    "columnas_na = datos_tech.isna().any()\n",
    "columnas_na = columnas_na[columnas_na].index.tolist()\n",
    "print(columnas_nulos)"
   ]
  },
  {
   "cell_type": "code",
   "execution_count": 9,
   "metadata": {},
   "outputs": [],
   "source": [
    "#añadir id a cada usuario\n",
    "datos_tech['id_user'] = range(1, len(datos_tech) + 1)"
   ]
  },
  {
   "cell_type": "code",
   "execution_count": null,
   "metadata": {},
   "outputs": [],
   "source": []
  },
  {
   "cell_type": "code",
   "execution_count": null,
   "metadata": {},
   "outputs": [],
   "source": []
  },
  {
   "cell_type": "code",
   "execution_count": null,
   "metadata": {},
   "outputs": [],
   "source": [
    "#limpiar columna gender\n",
    "contar_generos= datos_tech_original['Gender'].value_counts()\n",
    "print(len(datos_tech_original['Gender'].unique()))\n",
    "print((datos_tech_original['Gender'].unique()))\n",
    "contar_generos= datos_tech_original['Gender'].value_counts()"
   ]
  },
  {
   "cell_type": "code",
   "execution_count": 10,
   "metadata": {},
   "outputs": [],
   "source": [
    "\n",
    "#convertir toda la columna de Genero a minuscula para agrupar \n",
    "datos_tech[\"Gender\"]= datos_tech[\"Gender\"].str.lower()\n",
    "contar_generos= datos_tech['Gender'].value_counts()\n",
    "contar_generos = contar_generos.to_frame()\n",
    "\n",
    "#funcion para agrupar la columna genero en tres valores (masculino, femeninino y otro)\n",
    "def asignar_grupo(nombre):\n",
    "    if nombre in ['male', 'm', 'make','male ', 'msle', 'man']:\n",
    "        return 'masculino'\n",
    "    elif nombre in ['female', 'f','woman', 'female ']:\n",
    "        return 'femenino'\n",
    "    else:\n",
    "        return 'otro'\n",
    "\n",
    "#aplicar la funcion en dataset de contar para comprobar y en el dataset completo\n",
    "contar_generos.reset_index(level='Gender', inplace=True)\n",
    "contar_generos['genero'] = contar_generos['Gender'].apply(asignar_grupo)\n",
    "datos_tech['genero'] = datos_tech['Gender'].apply(asignar_grupo)\n",
    "contar_generos= datos_tech['genero'].value_counts()"
   ]
  },
  {
   "cell_type": "code",
   "execution_count": 11,
   "metadata": {},
   "outputs": [],
   "source": [
    "#¿como trato a los trangeneros? \n",
    "#los puedo agrupar o dejar en otro, ya que puede condicionar"
   ]
  },
  {
   "cell_type": "code",
   "execution_count": 12,
   "metadata": {},
   "outputs": [
    {
     "data": {
      "text/plain": [
       "1251"
      ]
     },
     "execution_count": 12,
     "metadata": {},
     "output_type": "execute_result"
    }
   ],
   "source": [
    "#limpiar edades que sean menor que 18 y mayor de 100, quedarse solo las edades que cumplan 18<edad<100\n",
    "#nombre columna \"Age\"\n",
    "datos_tech = datos_tech.loc[(datos_tech['Age'] >= 18) & (datos_tech['Age'] <= 100)]\n",
    "len(datos_tech)\n",
    "\n"
   ]
  },
  {
   "cell_type": "code",
   "execution_count": null,
   "metadata": {},
   "outputs": [],
   "source": [
    "\n"
   ]
  },
  {
   "cell_type": "code",
   "execution_count": null,
   "metadata": {},
   "outputs": [],
   "source": []
  },
  {
   "cell_type": "code",
   "execution_count": null,
   "metadata": {},
   "outputs": [],
   "source": []
  },
  {
   "cell_type": "code",
   "execution_count": null,
   "metadata": {},
   "outputs": [],
   "source": []
  },
  {
   "cell_type": "code",
   "execution_count": 21,
   "metadata": {},
   "outputs": [],
   "source": [
    "#crear dataframre final procesado para subir\n",
    "datos_tech_procesados = datos_tech.copy()\n",
    "\n"
   ]
  },
  {
   "attachments": {},
   "cell_type": "markdown",
   "metadata": {},
   "source": [
    "## Preparación Dataset students"
   ]
  },
  {
   "cell_type": "code",
   "execution_count": 13,
   "metadata": {},
   "outputs": [],
   "source": [
    "#crearse dataset igual para modificarlo\n",
    "datos_student = datos_student_original.copy()\n"
   ]
  },
  {
   "cell_type": "code",
   "execution_count": 14,
   "metadata": {},
   "outputs": [
    {
     "name": "stdout",
     "output_type": "stream",
     "text": [
      "False\n",
      "101\n",
      "101\n"
     ]
    }
   ],
   "source": [
    "#eliminar datos duplicados \n",
    "duplicados = datos_student.duplicated().any()\n",
    "print(duplicados)\n",
    "print(len(datos_student_original))\n",
    "\n",
    "#eliminar duplicados si los tiene\n",
    "datos_student = datos_student.drop_duplicates()\n",
    "print(len(datos_student))\n"
   ]
  },
  {
   "cell_type": "code",
   "execution_count": 15,
   "metadata": {},
   "outputs": [
    {
     "ename": "NameError",
     "evalue": "name 'df' is not defined",
     "output_type": "error",
     "traceback": [
      "\u001b[0;31m---------------------------------------------------------------------------\u001b[0m",
      "\u001b[0;31mNameError\u001b[0m                                 Traceback (most recent call last)",
      "Cell \u001b[0;32mIn[15], line 6\u001b[0m\n\u001b[1;32m      3\u001b[0m datos_tech \u001b[39m=\u001b[39m datos_tech\u001b[39m.\u001b[39mrename(columns\u001b[39m=\u001b[39mnuevos_nombres)\n\u001b[1;32m      5\u001b[0m \u001b[39m# Mostrar el DataFrame con las columnas renombradas\u001b[39;00m\n\u001b[0;32m----> 6\u001b[0m \u001b[39mprint\u001b[39m(df)\n",
      "\u001b[0;31mNameError\u001b[0m: name 'df' is not defined"
     ]
    }
   ],
   "source": [
    "#renombrar columnas dataframe (sobretodo en el de estudiantes, que son preguntas, poner nombres identificativos)\n",
    "nuevos_nombres = {'A': 'Columna1', 'B': 'Columna2'}\n",
    "datos_tech = datos_tech.rename(columns=nuevos_nombres)\n",
    "\n",
    "# Mostrar el DataFrame con las columnas renombradas\n",
    "print(df)"
   ]
  },
  {
   "cell_type": "code",
   "execution_count": null,
   "metadata": {},
   "outputs": [],
   "source": []
  },
  {
   "cell_type": "code",
   "execution_count": null,
   "metadata": {},
   "outputs": [],
   "source": []
  },
  {
   "attachments": {},
   "cell_type": "markdown",
   "metadata": {},
   "source": [
    "## Exportar datos procesados a csv"
   ]
  },
  {
   "cell_type": "code",
   "execution_count": null,
   "metadata": {},
   "outputs": [],
   "source": [
    "#exportar dataframes procesados en csv\n",
    "#contar_generos.to_csv(\"D:/t738623/Documents/TFG-main/TFG-main/Procesados/contar_generos.csv\")\n",
    "datos_tech.to_csv(\"D:/t738623/Documents/TFG-main/TFG-main/Procesados/datos_tech.csv\")\n",
    "#datos_student.to_csv(\"/Users/luciaprietogonzalez/Documents/Universidad/CURSO4/TFG/TFG DEFINITIVO/DESARROLLO/DATASETS/c/datos_student.csv\", index = False)\n",
    "\n"
   ]
  },
  {
   "attachments": {},
   "cell_type": "markdown",
   "metadata": {},
   "source": [
    "## Subir Tablas a BigQuery y crear vistas\n",
    "\n",
    "[Cargar datos desde Dataframe a Biguery](https://cloud.google.com/bigquery/docs/samples/bigquery-load-table-dataframe?hl=es-419)\n",
    "\n"
   ]
  },
  {
   "cell_type": "code",
   "execution_count": 20,
   "metadata": {},
   "outputs": [],
   "source": [
    "#CREAR DATASET SI NO EXISTE\n",
    "#dataset_ref = client.dataset(dataset_id)\n",
    "\n",
    "#dataset = bigquery.Dataset(dataset_ref)\n",
    "#dataset.location = 'europe-west1'\n",
    "#dataset = client.create_dataset(dataset)"
   ]
  },
  {
   "cell_type": "code",
   "execution_count": 22,
   "metadata": {},
   "outputs": [],
   "source": [
    "#FUNCION PARA SUBIR DATAFRAME A BIGQUERY\n",
    "def cargar_dataframe_bigquery (dataframe, dataset_id, table_name, table_id):\n",
    "    client = bigquery.Client(project=id_proyecto)\n",
    "\n",
    "    #verificar si la tabla ya existe \n",
    "    table_ref = client.dataset(dataset_id).table(table_name)\n",
    "    table = client.get_table(table_ref)\n",
    "\n",
    "    #venirificar si el esquema de la tabla ha cambiado\n",
    "    if set(dataframe.columns) != set([field.name for field in table.schema]):\n",
    "        #si ha cambiado el esquema elimina la tabla\n",
    "        print(\"Si ha cambiado el esquema\")\n",
    "        client.delete_table(table_ref)\n",
    "        print(\"Se ha borrado correctamente\")\n",
    "    else: print(\"No ha cambiado\")\n",
    "\n",
    "    #subir dataframe a la tabla\n",
    "    job_config = bigquery.LoadJobConfig()\n",
    "    job_config.write_disposition = bigquery.WriteDisposition.WRITE_TRUNCATE  \n",
    "    job = client.load_table_from_dataframe(dataframe, table_id, job_config=job_config)\n",
    "    job.result()  \n",
    "\n",
    "    print(f\"Se ha cargado la tabla {table_id} correctamente\")"
   ]
  },
  {
   "cell_type": "code",
   "execution_count": 23,
   "metadata": {},
   "outputs": [],
   "source": [
    "#QUITARLE UNA COLUMNA A DATAFRAME PARA PROBAR SI FUNCIONA LA FUNCION\n",
    "#datos_tech_procesados = datos_tech.drop(['comments'], axis= 1)"
   ]
  },
  {
   "cell_type": "code",
   "execution_count": 24,
   "metadata": {},
   "outputs": [
    {
     "name": "stdout",
     "output_type": "stream",
     "text": [
      "No ha cambiado\n",
      "Se ha cargado la tabla DatosTech.datos_tech_procesados correctamente\n"
     ]
    }
   ],
   "source": [
    "#COMPLETAR CON LOS DATOS DEL DATAFRAME Y LA TABLA \n",
    "#dataframe a subir\n",
    "dataframe = datos_tech_procesados\n",
    "#nombre dataset bigquery\n",
    "dataset_id = \"DatosTech\"\n",
    "#nombre tabla\n",
    "table_name =  \"datos_tech_procesados\"\n",
    "#nombre dataset mas tabla\n",
    "table_id = \"DatosTech.datos_tech_procesados\"\n",
    "\n",
    "#aplicar funcion\n",
    "cargar_dataframe_bigquery (dataframe, dataset_id, table_name, table_id)\n"
   ]
  },
  {
   "cell_type": "code",
   "execution_count": 16,
   "metadata": {},
   "outputs": [],
   "source": [
    "#CREAR VISTA A PARTIR DE LA TABLA \n",
    "\n",
    "def crear_vista(id_proyecto, dataset, tabla, vista):\n",
    "    client = bigquery.Client(project=id_proyecto)\n",
    "\n",
    "    #consulta para crear la vista\n",
    "    query = f\"\"\"\n",
    "    CREATE OR REPLACE VIEW `{id_proyecto}.{dataset}.{vista}`\n",
    "    AS\n",
    "    SELECT *\n",
    "    FROM `{id_proyecto}.{dataset}.{tabla}`\n",
    "    \"\"\"\n",
    "\n",
    "    #ejecutar la consulta\n",
    "    job = client.query(query)\n",
    "    job.result() \n",
    "\n",
    "    print(f\"{vista} creada correctamente\")\n",
    "\n",
    "\n"
   ]
  },
  {
   "cell_type": "code",
   "execution_count": 17,
   "metadata": {},
   "outputs": [
    {
     "name": "stdout",
     "output_type": "stream",
     "text": [
      "V_DATOS_PROCESADOS creada correctamente\n"
     ]
    }
   ],
   "source": [
    "#COMPLETAR CON LOS DATOS DE LA VISTA\n",
    "#id proyecto\n",
    "id_proyecto = 'tfg-ayudasaludmental-12345'\n",
    "#nombre dataset bigquery\n",
    "dataset = \"DatosTech\"\n",
    "#nombre tabla\n",
    "tabla =  \"datos_tech_procesados\"\n",
    "#nombre vista\n",
    "vista = \"V_DATOS_PROCESADOS\"\n",
    "\n",
    "\n",
    "crear_vista(id_proyecto, dataset, tabla, vista)"
   ]
  }
 ],
 "metadata": {
  "kernelspec": {
   "display_name": "Python 3",
   "language": "python",
   "name": "python3"
  },
  "language_info": {
   "codemirror_mode": {
    "name": "ipython",
    "version": 3
   },
   "file_extension": ".py",
   "mimetype": "text/x-python",
   "name": "python",
   "nbconvert_exporter": "python",
   "pygments_lexer": "ipython3",
   "version": "3.7.3"
  },
  "orig_nbformat": 4,
  "vscode": {
   "interpreter": {
    "hash": "31f2aee4e71d21fbe5cf8b01ff0e069b9275f58929596ceb00d14d90e3e16cd6"
   }
  }
 },
 "nbformat": 4,
 "nbformat_minor": 2
}
