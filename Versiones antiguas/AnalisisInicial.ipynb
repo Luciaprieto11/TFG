{
 "cells": [
  {
   "cell_type": "code",
   "execution_count": 1,
   "metadata": {},
   "outputs": [],
   "source": [
    "import pandas as pd\n",
    "\n",
    "ruta_archivo1 = '/Users/luciaprietogonzalez/Documents/Universidad/CURSO4/TFG/TFG DEFINITIVO/DESARROLLO/TFG/Tablas originales/Mental_Health_in_Tech_Survey.csv'  \n",
    "ruta_archivo2 = '/Users/luciaprietogonzalez/Documents/Universidad/CURSO4/TFG/TFG DEFINITIVO/DESARROLLO/TFG/Tablas originales/Student_Mental _health.csv'  \n",
    "                \n",
    "#ruta_archivo1 = 'D:/t738623/Documents/TFG-main/TFG-main/Tablas originales/Mental_Health_in_Tech_Survey.csv'  \n",
    "#ruta_archivo2 = 'D:/t738623/Documents/TFG-main/TFG-main/Tablas originales/Student_Mental _health.csv'  \n",
    "\n",
    "\n",
    "#importar el archivo csv y crear el DataFrame\n",
    "datos_tech_original = pd.read_csv(ruta_archivo1)\n",
    "datos_student_original = pd.read_csv(ruta_archivo2)\n"
   ]
  },
  {
   "attachments": {},
   "cell_type": "markdown",
   "metadata": {},
   "source": [
    "## Analisis inicial de los datasets"
   ]
  },
  {
   "cell_type": "code",
   "execution_count": 2,
   "metadata": {},
   "outputs": [
    {
     "name": "stdout",
     "output_type": "stream",
     "text": [
      "Primeras filas\n",
      "        Timestamp Choose your gender   Age What is your course?   \n",
      "0  8/7/2020 12:02             Female  18.0          Engineering  \\\n",
      "1  8/7/2020 12:04               Male  21.0    Islamic education   \n",
      "2  8/7/2020 12:05               Male  19.0                  BIT   \n",
      "3  8/7/2020 12:06             Female  22.0                 Laws   \n",
      "4  8/7/2020 12:13               Male  23.0         Mathemathics   \n",
      "\n",
      "  Your current year of Study What is your CGPA? Marital status   \n",
      "0                     year 1        3.00 - 3.49             No  \\\n",
      "1                     year 2        3.00 - 3.49             No   \n",
      "2                     Year 1        3.00 - 3.49             No   \n",
      "3                     year 3        3.00 - 3.49            Yes   \n",
      "4                     year 4        3.00 - 3.49             No   \n",
      "\n",
      "  Do you have Depression? Do you have Anxiety? Do you have Panic attack?   \n",
      "0                     Yes                   No                       Yes  \\\n",
      "1                      No                  Yes                        No   \n",
      "2                     Yes                  Yes                       Yes   \n",
      "3                     Yes                   No                        No   \n",
      "4                      No                   No                        No   \n",
      "\n",
      "  Did you seek any specialist for a treatment?  \n",
      "0                                           No  \n",
      "1                                           No  \n",
      "2                                           No  \n",
      "3                                           No  \n",
      "4                                           No  \n",
      "\n",
      "Información del dataset\n",
      "<class 'pandas.core.frame.DataFrame'>\n",
      "RangeIndex: 101 entries, 0 to 100\n",
      "Data columns (total 11 columns):\n",
      " #   Column                                        Non-Null Count  Dtype  \n",
      "---  ------                                        --------------  -----  \n",
      " 0   Timestamp                                     101 non-null    object \n",
      " 1   Choose your gender                            101 non-null    object \n",
      " 2   Age                                           100 non-null    float64\n",
      " 3   What is your course?                          101 non-null    object \n",
      " 4   Your current year of Study                    101 non-null    object \n",
      " 5   What is your CGPA?                            101 non-null    object \n",
      " 6   Marital status                                101 non-null    object \n",
      " 7   Do you have Depression?                       101 non-null    object \n",
      " 8   Do you have Anxiety?                          101 non-null    object \n",
      " 9   Do you have Panic attack?                     101 non-null    object \n",
      " 10  Did you seek any specialist for a treatment?  101 non-null    object \n",
      "dtypes: float64(1), object(10)\n",
      "memory usage: 8.8+ KB\n",
      "None\n",
      "\n",
      "Estadísticas\n",
      "             Age\n",
      "count  100.00000\n",
      "mean    20.53000\n",
      "std      2.49628\n",
      "min     18.00000\n",
      "25%     18.00000\n",
      "50%     19.00000\n",
      "75%     23.00000\n",
      "max     24.00000\n",
      "\n",
      "Dimensiones\n",
      "(101, 11)\n"
     ]
    }
   ],
   "source": [
    "#hacer un analisis inicial de los datos \n",
    "print(\"Primeras filas\")\n",
    "print(datos_student_original.head())\n",
    "\n",
    "print(\"\\nInformación del dataset\")\n",
    "print(datos_student_original.info())\n",
    "\n",
    "print(\"\\nEstadísticas\")\n",
    "print(datos_student_original.describe())\n",
    "\n",
    "print(\"\\nDimensiones\")\n",
    "print(datos_student_original.shape)  "
   ]
  },
  {
   "cell_type": "code",
   "execution_count": 3,
   "metadata": {},
   "outputs": [
    {
     "name": "stdout",
     "output_type": "stream",
     "text": [
      "Primeras filas\n",
      "             Timestamp  Age  Gender         Country state self_employed   \n",
      "0  2014-08-27 11:29:31   37  Female   United States    IL           NaN  \\\n",
      "1  2014-08-27 11:29:37   44       M   United States    IN           NaN   \n",
      "2  2014-08-27 11:29:44   32    Male          Canada   NaN           NaN   \n",
      "3  2014-08-27 11:29:46   31    Male  United Kingdom   NaN           NaN   \n",
      "4  2014-08-27 11:30:22   31    Male   United States    TX           NaN   \n",
      "\n",
      "  family_history treatment work_interfere    no_employees  ...   \n",
      "0             No       Yes          Often            6-25  ...  \\\n",
      "1             No        No         Rarely  More than 1000  ...   \n",
      "2             No        No         Rarely            6-25  ...   \n",
      "3            Yes       Yes          Often          26-100  ...   \n",
      "4             No        No          Never         100-500  ...   \n",
      "\n",
      "                leave mental_health_consequence phys_health_consequence   \n",
      "0       Somewhat easy                        No                      No  \\\n",
      "1          Don't know                     Maybe                      No   \n",
      "2  Somewhat difficult                        No                      No   \n",
      "3  Somewhat difficult                       Yes                     Yes   \n",
      "4          Don't know                        No                      No   \n",
      "\n",
      "      coworkers supervisor mental_health_interview phys_health_interview   \n",
      "0  Some of them        Yes                      No                 Maybe  \\\n",
      "1            No         No                      No                    No   \n",
      "2           Yes        Yes                     Yes                   Yes   \n",
      "3  Some of them         No                   Maybe                 Maybe   \n",
      "4  Some of them        Yes                     Yes                   Yes   \n",
      "\n",
      "  mental_vs_physical obs_consequence comments  \n",
      "0                Yes              No      NaN  \n",
      "1         Don't know              No      NaN  \n",
      "2                 No              No      NaN  \n",
      "3                 No             Yes      NaN  \n",
      "4         Don't know              No      NaN  \n",
      "\n",
      "[5 rows x 27 columns]\n",
      "\n",
      "Información del dataset\n",
      "<class 'pandas.core.frame.DataFrame'>\n",
      "RangeIndex: 1259 entries, 0 to 1258\n",
      "Data columns (total 27 columns):\n",
      " #   Column                     Non-Null Count  Dtype \n",
      "---  ------                     --------------  ----- \n",
      " 0   Timestamp                  1259 non-null   object\n",
      " 1   Age                        1259 non-null   int64 \n",
      " 2   Gender                     1259 non-null   object\n",
      " 3   Country                    1259 non-null   object\n",
      " 4   state                      744 non-null    object\n",
      " 5   self_employed              1241 non-null   object\n",
      " 6   family_history             1259 non-null   object\n",
      " 7   treatment                  1259 non-null   object\n",
      " 8   work_interfere             995 non-null    object\n",
      " 9   no_employees               1259 non-null   object\n",
      " 10  remote_work                1259 non-null   object\n",
      " 11  tech_company               1259 non-null   object\n",
      " 12  benefits                   1259 non-null   object\n",
      " 13  care_options               1259 non-null   object\n",
      " 14  wellness_program           1259 non-null   object\n",
      " 15  seek_help                  1259 non-null   object\n",
      " 16  anonymity                  1259 non-null   object\n",
      " 17  leave                      1259 non-null   object\n",
      " 18  mental_health_consequence  1259 non-null   object\n",
      " 19  phys_health_consequence    1259 non-null   object\n",
      " 20  coworkers                  1259 non-null   object\n",
      " 21  supervisor                 1259 non-null   object\n",
      " 22  mental_health_interview    1259 non-null   object\n",
      " 23  phys_health_interview      1259 non-null   object\n",
      " 24  mental_vs_physical         1259 non-null   object\n",
      " 25  obs_consequence            1259 non-null   object\n",
      " 26  comments                   164 non-null    object\n",
      "dtypes: int64(1), object(26)\n",
      "memory usage: 265.7+ KB\n",
      "None\n",
      "\n",
      "Estadísticas\n",
      "                Age\n",
      "count  1.259000e+03\n",
      "mean   7.942815e+07\n",
      "std    2.818299e+09\n",
      "min   -1.726000e+03\n",
      "25%    2.700000e+01\n",
      "50%    3.100000e+01\n",
      "75%    3.600000e+01\n",
      "max    1.000000e+11\n",
      "\n",
      "Dimensiones\n",
      "(1259, 27)\n"
     ]
    }
   ],
   "source": [
    "#hacer un analisis inicial de los datos \n",
    "print(\"Primeras filas\")\n",
    "print(datos_tech_original.head())\n",
    "\n",
    "print(\"\\nInformación del dataset\")\n",
    "print(datos_tech_original.info())\n",
    "\n",
    "print(\"\\nEstadísticas\")\n",
    "print(datos_tech_original.describe())\n",
    "\n",
    "print(\"\\nDimensiones\")\n",
    "print(datos_tech_original.shape)"
   ]
  },
  {
   "attachments": {},
   "cell_type": "markdown",
   "metadata": {},
   "source": [
    "## Preparación dataset tech"
   ]
  },
  {
   "cell_type": "code",
   "execution_count": null,
   "metadata": {},
   "outputs": [
    {
     "name": "stdout",
     "output_type": "stream",
     "text": [
      "49\n",
      "['Female' 'M' 'Male' 'male' 'female' 'm' 'Male-ish' 'maile' 'Trans-female'\n",
      " 'Cis Female' 'F' 'something kinda male?' 'Cis Male' 'Woman' 'f' 'Mal'\n",
      " 'Male (CIS)' 'queer/she/they' 'non-binary' 'Femake' 'woman' 'Make' 'Nah'\n",
      " 'All' 'Enby' 'fluid' 'Genderqueer' 'Female ' 'Androgyne' 'Agender'\n",
      " 'cis-female/femme' 'Guy (-ish) ^_^' 'male leaning androgynous' 'Male '\n",
      " 'Man' 'Trans woman' 'msle' 'Neuter' 'Female (trans)' 'queer'\n",
      " 'Female (cis)' 'Mail' 'cis male' 'A little about you' 'Malr' 'p' 'femail'\n",
      " 'Cis Man' 'ostensibly male, unsure what that really means']\n"
     ]
    }
   ],
   "source": [
    "#limpiar columna gender\n",
    "print(len(datos_tech_original['Gender'].unique()))\n",
    "print((datos_tech_original['Gender'].unique()))\n",
    "contar_generos= datos_tech_original['Gender'].value_counts()"
   ]
  },
  {
   "cell_type": "code",
   "execution_count": 19,
   "metadata": {},
   "outputs": [],
   "source": [
    "#crearse dataset igual para modificarlo\n",
    "datos_tech = datos_tech_original.copy()\n",
    "contar_generos= datos_tech_original['Gender'].value_counts()"
   ]
  },
  {
   "cell_type": "code",
   "execution_count": 20,
   "metadata": {},
   "outputs": [
    {
     "name": "stdout",
     "output_type": "stream",
     "text": [
      "False\n",
      "1259\n",
      "1259\n"
     ]
    }
   ],
   "source": [
    "#eliminar datos duplicados \n",
    "duplicados = datos_tech.duplicated().any()\n",
    "print(duplicados)\n",
    "print(len(datos_tech_original))\n",
    "\n",
    "#eliminar duplicados si los tiene\n",
    "datos_student = datos_tech.drop_duplicates()\n",
    "print(len(datos_tech))"
   ]
  },
  {
   "cell_type": "code",
   "execution_count": 26,
   "metadata": {},
   "outputs": [
    {
     "name": "stdout",
     "output_type": "stream",
     "text": [
      "['state', 'self_employed', 'work_interfere', 'comments']\n"
     ]
    }
   ],
   "source": [
    "#comprobar en qué columnas hay valores nulos\n",
    "columnas_nulos = datos_tech.isnull().any()\n",
    "columnas_nulos = columnas_nulos[columnas_nulos].index.tolist()\n",
    "print(columnas_nulos)"
   ]
  },
  {
   "cell_type": "code",
   "execution_count": 40,
   "metadata": {},
   "outputs": [],
   "source": [
    "#añadir id a cada usuario\n",
    "datos_tech['id_user'] = range(1, len(datos_tech) + 1)"
   ]
  },
  {
   "cell_type": "code",
   "execution_count": 4,
   "metadata": {},
   "outputs": [],
   "source": [
    "\n",
    "#convertir toda la columna de Genero a minuscula para agrupar \n",
    "datos_tech[\"Gender\"]= datos_tech[\"Gender\"].str.lower()\n",
    "contar_generos= datos_tech['Gender'].value_counts()\n",
    "contar_generos = contar_generos.to_frame()\n",
    "\n",
    "#funcion para agrupar la columna genero en tres valores (masculino, femeninino y otro)\n",
    "def asignar_grupo(nombre):\n",
    "    if nombre in ['male', 'm', 'make','male ', 'msle', 'man']:\n",
    "        return 'masculino'\n",
    "    elif nombre in ['female', 'f','woman', 'female ']:\n",
    "        return 'femenino'\n",
    "    else:\n",
    "        return 'otro'\n",
    "\n",
    "#aplicar la funcion en dataset de contar para comprobar y en el dataset completo\n",
    "contar_generos.reset_index(level='Gender', inplace=True)\n",
    "contar_generos['genero'] = contar_generos['Gender'].apply(asignar_grupo)\n",
    "datos_tech['genero'] = datos_tech['Gender'].apply(asignar_grupo)\n",
    "contar_generos= datos_tech['genero'].value_counts()"
   ]
  },
  {
   "cell_type": "code",
   "execution_count": null,
   "metadata": {},
   "outputs": [],
   "source": [
    "#¿como trato a los trangeneros? \n",
    "#los puedo agrupar o dejar en otro, ya que puede condicionar"
   ]
  },
  {
   "cell_type": "code",
   "execution_count": 24,
   "metadata": {},
   "outputs": [
    {
     "data": {
      "text/plain": [
       "1251"
      ]
     },
     "execution_count": 24,
     "metadata": {},
     "output_type": "execute_result"
    }
   ],
   "source": [
    "#limpiar edades que sean menor que 18 y mayor de 100, quedarse solo las edades que cumplan 18<edad<100\n",
    "#nombre columna \"Age\"\n",
    "datos_tech = datos_tech.loc[(datos_tech['Age'] >= 18) & (datos_tech['Age'] <= 100)]\n",
    "len(datos_tech)\n"
   ]
  },
  {
   "cell_type": "code",
   "execution_count": null,
   "metadata": {},
   "outputs": [],
   "source": [
    "\n"
   ]
  },
  {
   "cell_type": "code",
   "execution_count": null,
   "metadata": {},
   "outputs": [],
   "source": []
  },
  {
   "cell_type": "code",
   "execution_count": null,
   "metadata": {},
   "outputs": [],
   "source": []
  },
  {
   "attachments": {},
   "cell_type": "markdown",
   "metadata": {},
   "source": [
    "## Preparación Dataset students"
   ]
  },
  {
   "cell_type": "code",
   "execution_count": 10,
   "metadata": {},
   "outputs": [],
   "source": [
    "#crearse dataset igual para modificarlo\n",
    "datos_student = datos_student_original.copy()\n"
   ]
  },
  {
   "cell_type": "code",
   "execution_count": 15,
   "metadata": {},
   "outputs": [
    {
     "name": "stdout",
     "output_type": "stream",
     "text": [
      "False\n",
      "101\n",
      "101\n"
     ]
    }
   ],
   "source": [
    "#eliminar datos duplicados \n",
    "duplicados = datos_student.duplicated().any()\n",
    "print(duplicados)\n",
    "print(len(datos_student_original))\n",
    "\n",
    "#eliminar duplicados si los tiene\n",
    "datos_student = datos_student.drop_duplicates()\n",
    "print(len(datos_student))\n"
   ]
  },
  {
   "cell_type": "code",
   "execution_count": null,
   "metadata": {},
   "outputs": [],
   "source": [
    "#renombrar columnas dataframe (sobretodo en el de estudiantes, que son preguntas, poner nombres identificativos)\n",
    "nuevos_nombres = {'A': 'Columna1', 'B': 'Columna2'}\n",
    "datos_tech = datos_tech.rename(columns=nuevos_nombres)\n",
    "\n",
    "# Mostrar el DataFrame con las columnas renombradas\n",
    "print(df)"
   ]
  },
  {
   "cell_type": "code",
   "execution_count": null,
   "metadata": {},
   "outputs": [],
   "source": []
  },
  {
   "cell_type": "code",
   "execution_count": null,
   "metadata": {},
   "outputs": [],
   "source": []
  },
  {
   "attachments": {},
   "cell_type": "markdown",
   "metadata": {},
   "source": [
    "## Exportar datos procesados a csv"
   ]
  },
  {
   "cell_type": "code",
   "execution_count": 13,
   "metadata": {},
   "outputs": [],
   "source": [
    "#exportar dataframes procesados en csv\n",
    "contar_generos.to_csv(\"D:/t738623/Documents/TFG-main/TFG-main/Procesados/contar_generos.csv\")\n",
    "#datos_student.to_csv(\"/Users/luciaprietogonzalez/Documents/Universidad/CURSO4/TFG/TFG DEFINITIVO/DESARROLLO/DATASETS/c/datos_student.csv\", index = False)\n",
    " "
   ]
  }
 ],
 "metadata": {
  "kernelspec": {
   "display_name": "Python 3",
   "language": "python",
   "name": "python3"
  },
  "language_info": {
   "codemirror_mode": {
    "name": "ipython",
    "version": 3
   },
   "file_extension": ".py",
   "mimetype": "text/x-python",
   "name": "python",
   "nbconvert_exporter": "python",
   "pygments_lexer": "ipython3",
   "version": "3.11.3"
  },
  "orig_nbformat": 4,
  "vscode": {
   "interpreter": {
    "hash": "31f2aee4e71d21fbe5cf8b01ff0e069b9275f58929596ceb00d14d90e3e16cd6"
   }
  }
 },
 "nbformat": 4,
 "nbformat_minor": 2
}
